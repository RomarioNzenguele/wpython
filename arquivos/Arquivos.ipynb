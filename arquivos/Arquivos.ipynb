{
 "cells": [
  {
   "cell_type": "markdown",
   "metadata": {},
   "source": [
    "## <font color=\"Brown\">MANIPULACAO DE ARQUIVOS</font>\n",
    "### <font color=gray>Praticando DSA Python </font>\n",
    "## <font color=gray>Romário Nzenguele da Silva</font>"
   ]
  },
  {
   "cell_type": "code",
   "execution_count": null,
   "metadata": {},
   "outputs": [],
   "source": [
    "# Versão da Linguagem Python\n",
    "from platform import python_version\n",
    "print('Versão da Linguagem Python Usada Neste Jupyter Notebook:', python_version())"
   ]
  },
  {
   "cell_type": "code",
   "execution_count": 37,
   "metadata": {},
   "outputs": [],
   "source": [
    "# Definindo o caminho\n",
    "caminho = 'W:/wisinux/wpython/arquivos/arq1.txt'"
   ]
  },
  {
   "cell_type": "code",
   "execution_count": null,
   "metadata": {},
   "outputs": [],
   "source": [
    "# 1- Abertura do file no modo desejado:\n",
    "#   - 'r': leitura\n",
    "#   - 'w': escrita\n",
    "#   - 'a': escrita (acrescentar dados)\n",
    "# ex: arquivo = open('caminho/file.txt', 'r')"
   ]
  },
  {
   "cell_type": "code",
   "execution_count": 38,
   "metadata": {},
   "outputs": [
    {
     "name": "stdout",
     "output_type": "stream",
     "text": [
      "Pythonnnn! Eh uma gr\n",
      "ande linguagem de programacao.\n"
     ]
    }
   ],
   "source": [
    "# Leitura \n",
    "arquivo = open(caminho, \"r\")\n",
    "\n",
    "print(arquivo.read(20)) \n",
    "print(arquivo.read())  \n",
    "\n",
    "arquivo.close()"
   ]
  },
  {
   "cell_type": "code",
   "execution_count": 39,
   "metadata": {},
   "outputs": [
    {
     "name": "stdout",
     "output_type": "stream",
     "text": [
      "Pythonnnn!\n"
     ]
    }
   ],
   "source": [
    "# Escrita\n",
    "arquivo = open(caminho, \"w\")\n",
    "\n",
    "arquivo.write('Pythonnnn!')\n",
    "arquivo.close()\n",
    "\n",
    "arquivo = open(caminho, 'r')\n",
    "\n",
    "print(arquivo.read())\n",
    "\n",
    "arquivo.close()"
   ]
  },
  {
   "cell_type": "code",
   "execution_count": 40,
   "metadata": {},
   "outputs": [
    {
     "name": "stdout",
     "output_type": "stream",
     "text": [
      "Pythonnnn! Eh uma grande linguagem de programacao.\n"
     ]
    }
   ],
   "source": [
    "# Acrescentando dados\n",
    "arquivo = open(caminho, 'a')\n",
    "arquivo.write(' Eh uma grande linguagem de programacao.')\n",
    "\n",
    "arquivo = open(caminho, 'r')\n",
    "print(arquivo.read())\n",
    "arquivo.close()"
   ]
  },
  {
   "cell_type": "markdown",
   "metadata": {},
   "source": [
    "## MANIPULACAO DE ARQUIVOS 'CSV'"
   ]
  },
  {
   "cell_type": "code",
   "execution_count": 59,
   "metadata": {},
   "outputs": [],
   "source": [
    "caminho2 = 'W:/wisinux/wpython/arquivos/arq2.csv'"
   ]
  },
  {
   "cell_type": "code",
   "execution_count": 49,
   "metadata": {},
   "outputs": [],
   "source": [
    "#Leitura do arquivo csv\n",
    "data = open(caminho2, 'r').read()\n",
    "\n",
    "#transformando em array\n",
    "lista = data.split('\\n') "
   ]
  },
  {
   "cell_type": "code",
   "execution_count": 51,
   "metadata": {},
   "outputs": [
    {
     "name": "stdout",
     "output_type": "stream",
     "text": [
      "['Name,Position Title,Department,Employee Annual Salary', '\"CROMWELL,  LEO\",POLICE OFFICER,POLICE,$80778.00', '\"CRONIN,  JEANNE B\",PARAMEDIC I/C,FIRE,$90456.00', '\"CRONIN,  JOHN J\",CAPTAIN,FIRE,$120264.00', '\"CROT,  KEITH\",POLICE OFFICER,POLICE,$73296.00', '\"LONG,  CHARLES J\",SERGEANT,POLICE,$106920.00', '\"LOPEZ,  NOEL\",POLICE OFFICER,POLICE,$80778.00', '\"LOPEZ,  SILVIA L\",SERGEANT,POLICE,$110370.00', '\"LOPEZ,  SYLVIA\",POLICE OFFICER,POLICE,$86520.00', '\"LOPRESTI,  JAMES M\",FIREFIGHTER,FIRE,$86520.00', '\"LORDEN,  GARY E\",POLICE OFFICER,POLICE,$86520.00', '\"LORENZ,  JOHN M\",SERGEANT,POLICE,$100440.00', '\"LORENZ,  PAUL M\",POLICE OFFICER,POLICE,$83616.00', '\"LORENZ,  RICHARD R\",SERGEANT,POLICE,$100440.00', '\"PET,  ROBERT A\",SERGEANT,POLICE,$106920.00', '\"PETROUSKI,  AMY\",POLICE OFFICER,POLICE,$46206.00', '\"PETROVICH,  RICHARD A\",OPERATING ENGINEER-GROUP C,WATER MGMNT,$93745.60', '\"PETROWSKI,  STEVEN M\",SERGEANT,POLICE,$100440.00.', ',,,']\n"
     ]
    }
   ],
   "source": [
    "print(linhas)"
   ]
  },
  {
   "cell_type": "markdown",
   "metadata": {},
   "source": [
    "## Dividindo em colunas\n",
    "### Contando o numero de linhas / colunas"
   ]
  },
  {
   "cell_type": "code",
   "execution_count": 88,
   "metadata": {},
   "outputs": [],
   "source": [
    "arquivo = open(caminho2, 'r').read()\n",
    "\n",
    "# transformando num array/lista\n",
    "lista = arquivo.split('\\n') "
   ]
  },
  {
   "cell_type": "code",
   "execution_count": 89,
   "metadata": {},
   "outputs": [
    {
     "name": "stdout",
     "output_type": "stream",
     "text": [
      "['Name,Position Title,Department,Employee Annual Salary', '\"CRONIN,  JOHN J\",CAPTAIN,FIRE,$120264.00', '\"LONG,  CHARLES J\",SERGEANT,POLICE,$106920.00', '\"LOPEZ,  SILVIA L\",SERGEANT,POLICE,$110370.00', '\"LOPRESTI,  JAMES M\",FIREFIGHTER,FIRE,$86520.00', '\"LORDEN,  GARY E\",POLICE OFFICER,POLICE,$86520.00', '\"LORENZ,  JOHN M\",SERGEANT,POLICE,$100440.00', '\"PET,  ROBERT A\",SERGEANT,POLICE,$106920.00', '\"PETROWSKI,  STEVEN M\",SERGEANT,POLICE,$100440.00.', ',,,']\n"
     ]
    }
   ],
   "source": [
    "print(lista)"
   ]
  },
  {
   "cell_type": "code",
   "execution_count": 90,
   "metadata": {},
   "outputs": [],
   "source": [
    "tabela = []\n",
    "qtdLinhas = 0 \n",
    "\n",
    "for linha in lista :\n",
    "    registro = linha.split(\",\")\n",
    "    tabela.append(registro)\n",
    "    qtdLinhas +=1 "
   ]
  },
  {
   "cell_type": "code",
   "execution_count": 91,
   "metadata": {},
   "outputs": [
    {
     "name": "stdout",
     "output_type": "stream",
     "text": [
      "[['Name', 'Position Title', 'Department', 'Employee Annual Salary'], ['\"CRONIN', '  JOHN J\"', 'CAPTAIN', 'FIRE', '$120264.00'], ['\"LONG', '  CHARLES J\"', 'SERGEANT', 'POLICE', '$106920.00'], ['\"LOPEZ', '  SILVIA L\"', 'SERGEANT', 'POLICE', '$110370.00'], ['\"LOPRESTI', '  JAMES M\"', 'FIREFIGHTER', 'FIRE', '$86520.00'], ['\"LORDEN', '  GARY E\"', 'POLICE OFFICER', 'POLICE', '$86520.00'], ['\"LORENZ', '  JOHN M\"', 'SERGEANT', 'POLICE', '$100440.00'], ['\"PET', '  ROBERT A\"', 'SERGEANT', 'POLICE', '$106920.00'], ['\"PETROWSKI', '  STEVEN M\"', 'SERGEANT', 'POLICE', '$100440.00.'], ['', '', '', '']] \n",
      " Total de Linhas: 10\n"
     ]
    }
   ],
   "source": [
    "print(tabela, '\\n Total de Linhas:', qtdLinhas)"
   ]
  },
  {
   "cell_type": "code",
   "execution_count": 99,
   "metadata": {},
   "outputs": [
    {
     "name": "stdout",
     "output_type": "stream",
     "text": [
      "4\n",
      "Total de Colunas: 4\n"
     ]
    }
   ],
   "source": [
    "#Contando as colunas\n",
    "\n",
    "row = open(caminho2, 'r').read().split('\\n') \n",
    "table = [] \n",
    "\n",
    "for row in rows :\n",
    "    split_row = row.split(\",\")\n",
    "    table.append(split_row) \n",
    "    first_row = table[0]\n",
    "\n",
    "print('Total de Colunas:', len(first_row))\n",
    "\n",
    "\n",
    "#ou ...\n",
    "\n",
    "qtd_colunas = 0\n",
    "\n",
    "for column in first_row:\n",
    "    qtd_colunas += 1\n",
    "\n",
    "print('Total de Colunas:',qtd_colunas)\n",
    "\n"
   ]
  },
  {
   "cell_type": "markdown",
   "metadata": {},
   "source": [
    "## Gravando ARquivo"
   ]
  },
  {
   "cell_type": "code",
   "execution_count": 101,
   "metadata": {},
   "outputs": [
    {
     "name": "stdout",
     "output_type": "stream",
     "text": [
      "Overwriting /wisinux/wpython/arquivos/arq3.txt\n"
     ]
    }
   ],
   "source": [
    "%%writefile /wisinux/wpython/arquivos/arq3.txt\n",
    "*File gerado pelo Jupyter Notebook. Muito bom!"
   ]
  },
  {
   "cell_type": "code",
   "execution_count": 102,
   "metadata": {},
   "outputs": [],
   "source": [
    "arquivo3 = open('/wisinux/wpython/arquivos/arq3.txt', 'r')"
   ]
  },
  {
   "cell_type": "code",
   "execution_count": 103,
   "metadata": {},
   "outputs": [
    {
     "data": {
      "text/plain": [
       "'*File gerado pelo Jupyter Notebook. Muito bom!\\n'"
      ]
     },
     "execution_count": 103,
     "metadata": {},
     "output_type": "execute_result"
    }
   ],
   "source": [
    "arquivo3.read()"
   ]
  },
  {
   "cell_type": "code",
   "execution_count": 104,
   "metadata": {},
   "outputs": [
    {
     "data": {
      "text/plain": [
       "''"
      ]
     },
     "execution_count": 104,
     "metadata": {},
     "output_type": "execute_result"
    }
   ],
   "source": [
    "arquivo3.read() #final do arquivo e n ha mais nada para ler"
   ]
  },
  {
   "cell_type": "code",
   "execution_count": 106,
   "metadata": {},
   "outputs": [
    {
     "data": {
      "text/plain": [
       "['*File gerado pelo Jupyter Notebook. Muito bom!\\n']"
      ]
     },
     "execution_count": 106,
     "metadata": {},
     "output_type": "execute_result"
    }
   ],
   "source": [
    "arquivo3.seek(0) # retornando ao inicio do arquivo\n",
    "arquivo3.readlines()"
   ]
  },
  {
   "cell_type": "markdown",
   "metadata": {},
   "source": [
    "## Usando o loop for para ler ficheiros"
   ]
  },
  {
   "cell_type": "code",
   "execution_count": 107,
   "metadata": {},
   "outputs": [
    {
     "name": "stdout",
     "output_type": "stream",
     "text": [
      "*File gerado pelo Jupyter Notebook. Muito bom!\n",
      "\n"
     ]
    }
   ],
   "source": [
    "for row in open('/wisinux/wpython/arquivos/arq3.txt'):\n",
    "    print(row)"
   ]
  },
  {
   "cell_type": "markdown",
   "metadata": {},
   "source": [
    "## Fim"
   ]
  }
 ],
 "metadata": {
  "kernelspec": {
   "display_name": "Python 3 (ipykernel)",
   "language": "python",
   "name": "python3"
  },
  "language_info": {
   "codemirror_mode": {
    "name": "ipython",
    "version": 3
   },
   "file_extension": ".py",
   "mimetype": "text/x-python",
   "name": "python",
   "nbconvert_exporter": "python",
   "pygments_lexer": "ipython3",
   "version": "3.9.13"
  }
 },
 "nbformat": 4,
 "nbformat_minor": 1
}
